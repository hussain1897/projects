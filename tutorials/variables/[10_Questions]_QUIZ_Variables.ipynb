{
 "cells": [
  {
   "cell_type": "markdown",
   "id": "generous-praise",
   "metadata": {},
   "source": [
    "## [10 Questions] QUIZ - Variables"
   ]
  },
  {
   "cell_type": "markdown",
   "id": "unauthorized-penalty",
   "metadata": {},
   "source": [
    "#### General Syntax"
   ]
  },
  {
   "cell_type": "markdown",
   "id": "boxed-width",
   "metadata": {},
   "source": [
    "**Q 1:**\n",
    "\n",
    "Fill in the blanks to print \"Hello World!\":\n",
    "\n",
    ".....(\"Hello World!\")"
   ]
  },
  {
   "cell_type": "code",
   "execution_count": 2,
   "id": "activated-vietnamese",
   "metadata": {},
   "outputs": [
    {
     "name": "stdout",
     "output_type": "stream",
     "text": [
      "\"Hello World!\"\n"
     ]
    }
   ],
   "source": [
    "# S 1:\n",
    "print('\"Hello World!\"')\n"
   ]
  },
  {
   "cell_type": "markdown",
   "id": "interesting-glucose",
   "metadata": {},
   "source": [
    "---"
   ]
  },
  {
   "cell_type": "markdown",
   "id": "compliant-saver",
   "metadata": {},
   "source": [
    "**Q 2:**\n",
    "Fix the typo (coding error) below:\n",
    "\n",
    "<pre>\n",
    "print(\"Alice's Adventures')\n",
    "</pre>"
   ]
  },
  {
   "cell_type": "code",
   "execution_count": 3,
   "id": "acquired-decision",
   "metadata": {},
   "outputs": [
    {
     "name": "stdout",
     "output_type": "stream",
     "text": [
      "Alice's Adventure\n"
     ]
    }
   ],
   "source": [
    "# S 2:\n",
    "print(\"Alice's Adventure\")\n"
   ]
  },
  {
   "cell_type": "markdown",
   "id": "industrial-dover",
   "metadata": {},
   "source": [
    "---"
   ]
  },
  {
   "cell_type": "markdown",
   "id": "taken-ceiling",
   "metadata": {},
   "source": [
    "**Q 3:**\n",
    "\n",
    "Convert below line into a Comment Line.\n",
    "(One line comment)\n",
    "\n",
    "I am a Comment Line :)"
   ]
  },
  {
   "cell_type": "code",
   "execution_count": 4,
   "id": "christian-inquiry",
   "metadata": {},
   "outputs": [],
   "source": [
    "# S 3:\n",
    "#I am a Comment Line :)\n"
   ]
  },
  {
   "cell_type": "markdown",
   "id": "afraid-scratch",
   "metadata": {},
   "source": [
    "---"
   ]
  },
  {
   "cell_type": "markdown",
   "id": "outer-badge",
   "metadata": {},
   "source": [
    "**Q 4:**\n",
    "\n",
    "Convert below lines into comment line. (multi-line comment)\n",
    "\n",
    "<pre>\n",
    "This comment line\n",
    "Is multiple lines comment\n",
    "Not just one...\n",
    "</pre>"
   ]
  },
  {
   "cell_type": "code",
   "execution_count": 6,
   "id": "bridal-legislature",
   "metadata": {},
   "outputs": [
    {
     "data": {
      "text/plain": [
       "' This comment line\\nIs multiple lines comment\\nNot just one... '"
      ]
     },
     "execution_count": 6,
     "metadata": {},
     "output_type": "execute_result"
    }
   ],
   "source": [
    "# S 4:\n",
    "\"\"\" This comment line\n",
    "Is multiple lines comment\n",
    "Not just one... \"\"\""
   ]
  },
  {
   "cell_type": "markdown",
   "id": "found-heater",
   "metadata": {},
   "source": [
    "---"
   ]
  },
  {
   "cell_type": "markdown",
   "id": "martial-element",
   "metadata": {},
   "source": [
    "**Q 5:**\n",
    "\n",
    "Print the text below exactly as it is shown.\n",
    "\n",
    "<pre>\n",
    "Who in the world am I?\n",
    "    Ah, that's the great puzzle!\n",
    "        'Alice in Wonderland'\n",
    "</pre>"
   ]
  },
  {
   "cell_type": "code",
   "execution_count": 26,
   "id": "constant-scotland",
   "metadata": {},
   "outputs": [
    {
     "ename": "TypeError",
     "evalue": "'str' object is not callable",
     "output_type": "error",
     "traceback": [
      "\u001b[0;31m---------------------------------------------------------------------------\u001b[0m",
      "\u001b[0;31mTypeError\u001b[0m                                 Traceback (most recent call last)",
      "\u001b[1;32m/Users/Ali/coding/projects/tutorials/variables/[10_Questions]_QUIZ_Variables.ipynb Cell 16'\u001b[0m in \u001b[0;36m<cell line: 2>\u001b[0;34m()\u001b[0m\n\u001b[1;32m      <a href='vscode-notebook-cell:/Users/Ali/coding/projects/tutorials/variables/%5B10_Questions%5D_QUIZ_Variables.ipynb#ch0000015?line=0'>1</a>\u001b[0m \u001b[39m# S 5:\u001b[39;00m\n\u001b[0;32m----> <a href='vscode-notebook-cell:/Users/Ali/coding/projects/tutorials/variables/%5B10_Questions%5D_QUIZ_Variables.ipynb#ch0000015?line=1'>2</a>\u001b[0m \u001b[39mprint\u001b[39;49m(\u001b[39m\"\"\"\u001b[39;49m\n\u001b[1;32m      <a href='vscode-notebook-cell:/Users/Ali/coding/projects/tutorials/variables/%5B10_Questions%5D_QUIZ_Variables.ipynb#ch0000015?line=2'>3</a>\u001b[0m \u001b[39mWho in the world am I?\u001b[39;49m\n\u001b[1;32m      <a href='vscode-notebook-cell:/Users/Ali/coding/projects/tutorials/variables/%5B10_Questions%5D_QUIZ_Variables.ipynb#ch0000015?line=3'>4</a>\u001b[0m \u001b[39m    Ah, that\u001b[39;49m\u001b[39m'\u001b[39;49m\u001b[39ms the great puzzle!\u001b[39;49m\n\u001b[1;32m      <a href='vscode-notebook-cell:/Users/Ali/coding/projects/tutorials/variables/%5B10_Questions%5D_QUIZ_Variables.ipynb#ch0000015?line=4'>5</a>\u001b[0m \u001b[39m        \u001b[39;49m\u001b[39m'\u001b[39;49m\u001b[39mAlice in Wonderland\u001b[39;49m\u001b[39m'\u001b[39;49m\n\u001b[1;32m      <a href='vscode-notebook-cell:/Users/Ali/coding/projects/tutorials/variables/%5B10_Questions%5D_QUIZ_Variables.ipynb#ch0000015?line=5'>6</a>\u001b[0m \u001b[39m\"\"\"\u001b[39;49m)\n\u001b[1;32m      <a href='vscode-notebook-cell:/Users/Ali/coding/projects/tutorials/variables/%5B10_Questions%5D_QUIZ_Variables.ipynb#ch0000015?line=8'>9</a>\u001b[0m \u001b[39mprint\u001b[39m(\u001b[39m\"\u001b[39m\u001b[39mWho in the world am I?\u001b[39m\u001b[39m\"\u001b[39m)\n\u001b[1;32m     <a href='vscode-notebook-cell:/Users/Ali/coding/projects/tutorials/variables/%5B10_Questions%5D_QUIZ_Variables.ipynb#ch0000015?line=9'>10</a>\u001b[0m \u001b[39mprint\u001b[39m(\u001b[39m\"\u001b[39m\u001b[39m     Ah, that\u001b[39m\u001b[39m'\u001b[39m\u001b[39ms the great puzzle!\u001b[39m\u001b[39m\"\u001b[39m)\n",
      "\u001b[0;31mTypeError\u001b[0m: 'str' object is not callable"
     ]
    }
   ],
   "source": [
    "# S 5:\n",
    "print(\"\"\"\n",
    "Who in the world am I?\n",
    "    Ah, that's the great puzzle!\n",
    "        'Alice in Wonderland'\n",
    "\"\"\")\n",
    "\n",
    "\n",
    "print(\"Who in the world am I?\")\n",
    "print(\"     Ah, that's the great puzzle!\")\n",
    "print(\"         'Alice in wonderland'\")"
   ]
  },
  {
   "cell_type": "markdown",
   "id": "coordinated-breach",
   "metadata": {},
   "source": [
    "---"
   ]
  },
  {
   "cell_type": "markdown",
   "id": "legal-template",
   "metadata": {},
   "source": [
    "#### Python Variables"
   ]
  },
  {
   "cell_type": "markdown",
   "id": "silver-astrology",
   "metadata": {},
   "source": [
    "**Q 1:**\n",
    "\n",
    "Create a variable named car_model and assign the value 'Volvo' to it."
   ]
  },
  {
   "cell_type": "code",
   "execution_count": 18,
   "id": "delayed-matrix",
   "metadata": {},
   "outputs": [
    {
     "ename": "TypeError",
     "evalue": "'str' object is not callable",
     "output_type": "error",
     "traceback": [
      "\u001b[0;31m---------------------------------------------------------------------------\u001b[0m",
      "\u001b[0;31mTypeError\u001b[0m                                 Traceback (most recent call last)",
      "\u001b[1;32m/Users/Ali/coding/projects/tutorials/variables/[10_Questions]_QUIZ_Variables.ipynb Cell 20'\u001b[0m in \u001b[0;36m<cell line: 3>\u001b[0;34m()\u001b[0m\n\u001b[1;32m      <a href='vscode-notebook-cell:/Users/Ali/coding/projects/tutorials/variables/%5B10_Questions%5D_QUIZ_Variables.ipynb#ch0000019?line=0'>1</a>\u001b[0m \u001b[39m# S 1:\u001b[39;00m\n\u001b[1;32m      <a href='vscode-notebook-cell:/Users/Ali/coding/projects/tutorials/variables/%5B10_Questions%5D_QUIZ_Variables.ipynb#ch0000019?line=1'>2</a>\u001b[0m car_model \u001b[39m=\u001b[39m \u001b[39m'\u001b[39m\u001b[39mVolvo\u001b[39m\u001b[39m'\u001b[39m\n\u001b[0;32m----> <a href='vscode-notebook-cell:/Users/Ali/coding/projects/tutorials/variables/%5B10_Questions%5D_QUIZ_Variables.ipynb#ch0000019?line=2'>3</a>\u001b[0m \u001b[39mprint\u001b[39;49m(\u001b[39m\"\u001b[39;49m\u001b[39mcar_model\u001b[39;49m\u001b[39m\"\u001b[39;49m)\n",
      "\u001b[0;31mTypeError\u001b[0m: 'str' object is not callable"
     ]
    }
   ],
   "source": [
    "# S 1:\n",
    "car_model = 'Volvo'\n",
    "print(\"car_model\")\n"
   ]
  },
  {
   "cell_type": "markdown",
   "id": "annoying-mention",
   "metadata": {},
   "source": [
    "---"
   ]
  },
  {
   "cell_type": "markdown",
   "id": "raised-intervention",
   "metadata": {},
   "source": [
    "**Q 2:**\n",
    "\n",
    "Create a variable named x and set its value to 50."
   ]
  },
  {
   "cell_type": "code",
   "execution_count": 17,
   "id": "brutal-fountain",
   "metadata": {},
   "outputs": [
    {
     "ename": "TypeError",
     "evalue": "'str' object is not callable",
     "output_type": "error",
     "traceback": [
      "\u001b[0;31m---------------------------------------------------------------------------\u001b[0m",
      "\u001b[0;31mTypeError\u001b[0m                                 Traceback (most recent call last)",
      "\u001b[1;32m/Users/Ali/coding/projects/tutorials/variables/[10_Questions]_QUIZ_Variables.ipynb Cell 23'\u001b[0m in \u001b[0;36m<cell line: 3>\u001b[0;34m()\u001b[0m\n\u001b[1;32m      <a href='vscode-notebook-cell:/Users/Ali/coding/projects/tutorials/variables/%5B10_Questions%5D_QUIZ_Variables.ipynb#ch0000022?line=0'>1</a>\u001b[0m \u001b[39m# S 2:\u001b[39;00m\n\u001b[1;32m      <a href='vscode-notebook-cell:/Users/Ali/coding/projects/tutorials/variables/%5B10_Questions%5D_QUIZ_Variables.ipynb#ch0000022?line=1'>2</a>\u001b[0m x \u001b[39m=\u001b[39m \u001b[39m50\u001b[39m \n\u001b[0;32m----> <a href='vscode-notebook-cell:/Users/Ali/coding/projects/tutorials/variables/%5B10_Questions%5D_QUIZ_Variables.ipynb#ch0000022?line=2'>3</a>\u001b[0m \u001b[39mprint\u001b[39;49m(x)\n",
      "\u001b[0;31mTypeError\u001b[0m: 'str' object is not callable"
     ]
    }
   ],
   "source": [
    "# S 2:\n",
    "x = 50 \n",
    "print(x)\n"
   ]
  },
  {
   "cell_type": "markdown",
   "id": "focal-yorkshire",
   "metadata": {},
   "source": [
    "---"
   ]
  },
  {
   "cell_type": "markdown",
   "id": "included-palestinian",
   "metadata": {},
   "source": [
    "**Q 3:**\n",
    "\n",
    "Create two varibles x and y. And assing them as 20 and 50 respectively.\n",
    "\n",
    "Create a variable z, and assign x + y to it.\n",
    "\n",
    "Then print z.\n",
    "\n",
    "<pre>\n",
    "x = 20\n",
    "y = 80\n",
    "\n",
    "... = x + y\n",
    "print(...)\n",
    "</pre>"
   ]
  },
  {
   "cell_type": "code",
   "execution_count": 19,
   "id": "hearing-intensity",
   "metadata": {},
   "outputs": [
    {
     "ename": "TypeError",
     "evalue": "'str' object is not callable",
     "output_type": "error",
     "traceback": [
      "\u001b[0;31m---------------------------------------------------------------------------\u001b[0m",
      "\u001b[0;31mTypeError\u001b[0m                                 Traceback (most recent call last)",
      "\u001b[1;32m/Users/Ali/coding/projects/tutorials/variables/[10_Questions]_QUIZ_Variables.ipynb Cell 26'\u001b[0m in \u001b[0;36m<cell line: 5>\u001b[0;34m()\u001b[0m\n\u001b[1;32m      <a href='vscode-notebook-cell:/Users/Ali/coding/projects/tutorials/variables/%5B10_Questions%5D_QUIZ_Variables.ipynb#ch0000025?line=2'>3</a>\u001b[0m y \u001b[39m=\u001b[39m \u001b[39m50\u001b[39m\n\u001b[1;32m      <a href='vscode-notebook-cell:/Users/Ali/coding/projects/tutorials/variables/%5B10_Questions%5D_QUIZ_Variables.ipynb#ch0000025?line=3'>4</a>\u001b[0m z \u001b[39m=\u001b[39m x\u001b[39m+\u001b[39my\n\u001b[0;32m----> <a href='vscode-notebook-cell:/Users/Ali/coding/projects/tutorials/variables/%5B10_Questions%5D_QUIZ_Variables.ipynb#ch0000025?line=4'>5</a>\u001b[0m \u001b[39mprint\u001b[39;49m(z)\n",
      "\u001b[0;31mTypeError\u001b[0m: 'str' object is not callable"
     ]
    }
   ],
   "source": [
    "# S 3:\n",
    "x = 20\n",
    "y = 50\n",
    "z = x+y\n",
    "print(z)\n"
   ]
  },
  {
   "cell_type": "markdown",
   "id": "resident-piano",
   "metadata": {},
   "source": [
    "---"
   ]
  },
  {
   "cell_type": "markdown",
   "id": "dependent-broadcast",
   "metadata": {},
   "source": [
    "**Q 4:**\n",
    "\n",
    "Remove forbidden characters from the variable name.\n",
    "\n",
    "**2my-first_variable*β = \"Beta\"**"
   ]
  },
  {
   "cell_type": "code",
   "execution_count": 21,
   "id": "wooden-forth",
   "metadata": {},
   "outputs": [
    {
     "ename": "TypeError",
     "evalue": "'str' object is not callable",
     "output_type": "error",
     "traceback": [
      "\u001b[0;31m---------------------------------------------------------------------------\u001b[0m",
      "\u001b[0;31mTypeError\u001b[0m                                 Traceback (most recent call last)",
      "\u001b[1;32m/Users/Ali/coding/projects/tutorials/variables/[10_Questions]_QUIZ_Variables.ipynb Cell 29'\u001b[0m in \u001b[0;36m<cell line: 3>\u001b[0;34m()\u001b[0m\n\u001b[1;32m      <a href='vscode-notebook-cell:/Users/Ali/coding/projects/tutorials/variables/%5B10_Questions%5D_QUIZ_Variables.ipynb#ch0000028?line=0'>1</a>\u001b[0m \u001b[39m# S 4:\u001b[39;00m\n\u001b[1;32m      <a href='vscode-notebook-cell:/Users/Ali/coding/projects/tutorials/variables/%5B10_Questions%5D_QUIZ_Variables.ipynb#ch0000028?line=1'>2</a>\u001b[0m my_first_variable\u001b[39m=\u001b[39m \u001b[39m\"\u001b[39m\u001b[39mBeta\u001b[39m\u001b[39m\"\u001b[39m\n\u001b[0;32m----> <a href='vscode-notebook-cell:/Users/Ali/coding/projects/tutorials/variables/%5B10_Questions%5D_QUIZ_Variables.ipynb#ch0000028?line=2'>3</a>\u001b[0m \u001b[39mprint\u001b[39;49m(my_first_variable)\n",
      "\u001b[0;31mTypeError\u001b[0m: 'str' object is not callable"
     ]
    }
   ],
   "source": [
    "# S 4:\n",
    "my_first_variable= \"Beta\"\n",
    "print(my_first_variable)\n"
   ]
  },
  {
   "cell_type": "markdown",
   "id": "starting-slide",
   "metadata": {},
   "source": [
    "---"
   ]
  },
  {
   "cell_type": "markdown",
   "id": "superior-basement",
   "metadata": {},
   "source": [
    "**Q 5:**\n",
    "\n",
    "Fill in the blanks to assign three variables at the same time.\n",
    "\n",
    "x ... y ... z = \"Python\""
   ]
  },
  {
   "cell_type": "code",
   "execution_count": 23,
   "id": "declared-annual",
   "metadata": {},
   "outputs": [
    {
     "ename": "TypeError",
     "evalue": "'str' object is not callable",
     "output_type": "error",
     "traceback": [
      "\u001b[0;31m---------------------------------------------------------------------------\u001b[0m",
      "\u001b[0;31mTypeError\u001b[0m                                 Traceback (most recent call last)",
      "\u001b[1;32m/Users/Ali/coding/projects/tutorials/variables/[10_Questions]_QUIZ_Variables.ipynb Cell 32'\u001b[0m in \u001b[0;36m<cell line: 3>\u001b[0;34m()\u001b[0m\n\u001b[1;32m      <a href='vscode-notebook-cell:/Users/Ali/coding/projects/tutorials/variables/%5B10_Questions%5D_QUIZ_Variables.ipynb#ch0000031?line=0'>1</a>\u001b[0m \u001b[39m# S 5:\u001b[39;00m\n\u001b[1;32m      <a href='vscode-notebook-cell:/Users/Ali/coding/projects/tutorials/variables/%5B10_Questions%5D_QUIZ_Variables.ipynb#ch0000031?line=1'>2</a>\u001b[0m x \u001b[39m=\u001b[39m y\u001b[39m=\u001b[39m z\u001b[39m=\u001b[39m \u001b[39m\"\u001b[39m\u001b[39mpython\u001b[39m\u001b[39m\"\u001b[39m\n\u001b[0;32m----> <a href='vscode-notebook-cell:/Users/Ali/coding/projects/tutorials/variables/%5B10_Questions%5D_QUIZ_Variables.ipynb#ch0000031?line=2'>3</a>\u001b[0m \u001b[39mprint\u001b[39;49m(x)\n\u001b[1;32m      <a href='vscode-notebook-cell:/Users/Ali/coding/projects/tutorials/variables/%5B10_Questions%5D_QUIZ_Variables.ipynb#ch0000031?line=3'>4</a>\u001b[0m \u001b[39mprint\u001b[39m(y)\n\u001b[1;32m      <a href='vscode-notebook-cell:/Users/Ali/coding/projects/tutorials/variables/%5B10_Questions%5D_QUIZ_Variables.ipynb#ch0000031?line=4'>5</a>\u001b[0m \u001b[39mprint\u001b[39m(z)\n",
      "\u001b[0;31mTypeError\u001b[0m: 'str' object is not callable"
     ]
    }
   ],
   "source": [
    "# S 5:\n",
    "x = y= z= \"python\"\n",
    "print(x)\n",
    "print(y)\n",
    "print(z)\n"
   ]
  },
  {
   "cell_type": "code",
   "execution_count": null,
   "id": "chubby-austin",
   "metadata": {},
   "outputs": [],
   "source": []
  }
 ],
 "metadata": {
  "kernelspec": {
   "display_name": "Python 3",
   "language": "python",
   "name": "python3"
  },
  "language_info": {
   "codemirror_mode": {
    "name": "ipython",
    "version": 3
   },
   "file_extension": ".py",
   "mimetype": "text/x-python",
   "name": "python",
   "nbconvert_exporter": "python",
   "pygments_lexer": "ipython3",
   "version": "3.8.8"
  }
 },
 "nbformat": 4,
 "nbformat_minor": 5
}
